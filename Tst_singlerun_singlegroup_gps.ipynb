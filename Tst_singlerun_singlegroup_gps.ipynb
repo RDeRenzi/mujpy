{
 "cells": [
  {
   "cell_type": "markdown",
   "metadata": {
    "tags": []
   },
   "source": [
    "**Example of single group calibration:**\n",
    "\n",
    "MAKE SURE YOU RENEWED ACCESS TO DATABASE!"
   ]
  },
  {
   "cell_type": "code",
   "execution_count": 1,
   "metadata": {},
   "outputs": [],
   "source": [
    "%matplotlib tk\n",
    "from mujpy.musuite import suite\n",
    "from mujpy.muplot import multiplot\n",
    "from mujpy.aux.aux import rebin, get_title\n",
    "import json, logging\n",
    "from mujpy.mufit import mufit\n",
    "from mujpy.mufitplot import mufitplot"
   ]
  },
  {
   "cell_type": "code",
   "execution_count": 2,
   "metadata": {},
   "outputs": [
    {
     "name": "stdout",
     "output_type": "stream",
     "text": [
      "******************* SUITE *********************\n",
      "Run /afs/psi.ch/project/bulkmusr/data/gps/d2021/tdc/deltat_tdc_gps_0822.bin loaded\n",
      "Succesfully completed prompt Minuit fit, check nt0, dt0 \n",
      "****************END OF SUITE*****************\n"
     ]
    }
   ],
   "source": [
    "#  can add 'scan':'T' or 'B' for orderinng csv for increasing T, B, otherwise increasing nrun\n",
    "input_suite = {'console':'print',\n",
    "                   'datafile':'/afs/psi.ch/project/bulkmusr/data/gps/d2021/tdc/deltat_tdc_gps_0822.bin',\n",
    "                   'logpath':'log/',\n",
    "                   'runlist':'822',\n",
    "                   'groups calibration':'23-14.calib',\n",
    "                   'offset':20\n",
    "                  }  # 'console':logging, for output in Log Console, 'console':print, for output in notebook\n",
    "with open('log/input.suite',\"w\") as f:\n",
    "    json.dump(input_suite,f)\n",
    "\n",
    "grp_calib = [{'forward':'2,3', 'backward':'1,4', 'alpha':1.13}]\n",
    "with open('log/23-14.calib',\"w\") as f:\n",
    "    json.dump(grp_calib,f)\n",
    "    \n",
    "the_suite = suite('log/input.suite',mplot=False) # the_suite implements the class suite according to input.suite"
   ]
  },
  {
   "cell_type": "code",
   "execution_count": 3,
   "metadata": {
    "tags": []
   },
   "outputs": [],
   "source": [
    "multi = False # preliminary plot skipped\n",
    "if multi:\n",
    "    asymm,asyme = the_suite.asymmetry_multigroup()\n",
    "    if asymm.any() != None:\n",
    "        t,a = rebin(the_suite.time,asymm,(0,20000),100) \n",
    "        nrun = str(the_suite._the_runs_[0][0].get_runNumber_int())\n",
    "        groups = [grp['forward']+'-'+grp['backward'] for grp in the_suite.groups]\n",
    "        titles = [nrun+': '+get_title(the_suite._the_runs_[0][0]) for group in groups]\n",
    "        multi = multiplot(t,a,titles,groups,the_suite.histoLength)\n",
    "        discard  = multi.display(anim=True)\n",
    "    else:\n",
    "        the_suite.console('********************** No data yet: check access to database!')"
   ]
  },
  {
   "cell_type": "code",
   "execution_count": 4,
   "metadata": {},
   "outputs": [
    {
     "name": "stdout",
     "output_type": "stream",
     "text": [
      " _____________________________________________________________________________________\n",
      "| Run 822: MnBi6Te1 pellet   100.000G 30.000K      on group: 2,3 - 1,4   α = 1.130    |\n",
      "| χᵣ² = 1.052(0.980,1.020), fit on [7.83ns, 9.4µs, 1.95ns/bin], at 29/11/2021 12:25:33|\n",
      "|-------------------------------------------------------------------------------------|\n",
      "| mg: A_T_fast = 0.047(4) B_T_fast = 10.3(2) φ_T_fast = 16.4(9) σ_T_fast = -1.5(2)\n",
      "| ml: A_T_slow = 0.151(6) B_T_slow = 10.020(5) φ_T_slow = 16.4(9) λ_T_slow = 0.07(1)\n",
      "|_____________________________________________________________________________________|\n",
      "Best fit saved in log/mgml.822.2_3-1_4.1_fit.json.  Log added to mgml.1.2_3-1_4.csv\n"
     ]
    }
   ],
   "source": [
    "the_fit = mufit(the_suite,'log/mgml.822.2_3-1_4.1.json')"
   ]
  },
  {
   "cell_type": "code",
   "execution_count": 5,
   "metadata": {},
   "outputs": [
    {
     "name": "stdout",
     "output_type": "stream",
     "text": [
      "Plotting best fit of run 822\n"
     ]
    }
   ],
   "source": [
    "fit_plot= mufitplot('0,2000,10,20000,40',the_suite,'/home/roberto.derenzi/mujpy/log/mgml.822.2_3-1_4.1_fit.json')#,guess=True) # '0,1000,4,24000,100' # two range plot"
   ]
  },
  {
   "cell_type": "code",
   "execution_count": 6,
   "metadata": {},
   "outputs": [],
   "source": [
    "import matplotlib.pyplot as P\n",
    "from mujpy.aux.aux import rebin\n",
    "if False:\n",
    "    t,a,e,f = the_fit.show_calib()\n",
    "    fig,ax = P.subplots(figsize=(5,4))\n",
    "    tr, ar, er = rebin(t,a,[0,24000],100,e=e)\n",
    "    ax.errorbar(tr,ar,yerr=er,fmt='o',ms=0.5,mfc='w',alpha=0.5)\n",
    "    ax.plot(t,f, 'r-',lw=1,zorder=2)\n",
    "    P.show()"
   ]
  },
  {
   "cell_type": "code",
   "execution_count": null,
   "metadata": {},
   "outputs": [],
   "source": [
    "the_suite.groups"
   ]
  },
  {
   "cell_type": "code",
   "execution_count": null,
   "metadata": {},
   "outputs": [],
   "source": []
  }
 ],
 "metadata": {
  "kernelspec": {
   "display_name": "Python 3",
   "language": "python",
   "name": "python3"
  },
  "language_info": {
   "codemirror_mode": {
    "name": "ipython",
    "version": 3
   },
   "file_extension": ".py",
   "mimetype": "text/x-python",
   "name": "python",
   "nbconvert_exporter": "python",
   "pygments_lexer": "ipython3",
   "version": "3.8.10"
  }
 },
 "nbformat": 4,
 "nbformat_minor": 4
}
