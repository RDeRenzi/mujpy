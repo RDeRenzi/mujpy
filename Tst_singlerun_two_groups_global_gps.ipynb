{
 "cells": [
  {
   "cell_type": "markdown",
   "metadata": {},
   "source": [
    "**Example of double group global fit:**\n",
    "\n",
    "MAKE SURE YOU RENEWED ACCESS TO DATABASE!"
   ]
  },
  {
   "cell_type": "code",
   "execution_count": 1,
   "metadata": {},
   "outputs": [],
   "source": [
    "%matplotlib tk\n",
    "from mujpy.musuite import suite\n",
    "from mujpy.muplot import multiplot\n",
    "from mujpy.aux.aux import rebin, get_title\n",
    "import json\n",
    "from mujpy.mufit import mufit\n",
    "from mujpy.mufitplot import mufitplot"
   ]
  },
  {
   "cell_type": "code",
   "execution_count": 2,
   "metadata": {},
   "outputs": [
    {
     "name": "stdout",
     "output_type": "stream",
     "text": [
      "******************* SUITE *********************\n",
      "Run /afs/psi.ch/project/bulkmusr/data/gps/d2021/tdc/deltat_tdc_gps_0822.bin loaded\n",
      "Succesfully completed prompt Minuit fit, check nt0, dt0 \n",
      "****************END OF SUITE*****************\n"
     ]
    }
   ],
   "source": [
    "#  can add 'scan':'T' or 'B' for orderinng csv for increasing T, B, otherwise increasing nrun\n",
    "input_suite = {'console':'print',\n",
    "                   'datafile':'/afs/psi.ch/project/bulkmusr/data/gps/d2021/tdc/deltat_tdc_gps_0822.bin',\n",
    "                   'logpath':'log/',\n",
    "                   'runlist':'822',\n",
    "                   'groups calibration':'2-1_3-4.calib',\n",
    "                   'offset':20\n",
    "                  }  # 'console':logging, for output in Log Console, 'console':print, for output in notebook\n",
    "with open('log/input.suite',\"w\") as f:\n",
    "    json.dump(input_suite,f)\n",
    "\n",
    "grp_calib = [{'forward':'2', 'backward':'1', 'alpha':1.135},{'forward':'3', 'backward':'4', 'alpha':1.129}]\n",
    "with open('log/2-1_3-4.calib',\"w\") as f:\n",
    "    json.dump(grp_calib,f)\n",
    "    \n",
    "the_suite = suite('log/input.suite',mplot=False) # the_suite implements the class suite according to input.suite"
   ]
  },
  {
   "cell_type": "code",
   "execution_count": 3,
   "metadata": {},
   "outputs": [],
   "source": [
    "multi = False # preliminary plot skipped\n",
    "if multi:\n",
    "    asymm,asyme = the_suite.asymmetry_multigroup()\n",
    "    if asymm.any() != None:\n",
    "        t,a = rebin(the_suite.time,asymm,(0,20000),100) \n",
    "        nrun = str(the_suite._the_runs_[0][0].get_runNumber_int())\n",
    "        groups = [grp['forward']+'-'+grp['backward'] for grp in the_suite.groups]\n",
    "        titles = [nrun+': '+get_title(the_suite._the_runs_[0][0]) for group in groups]\n",
    "        multi = multiplot(t,a,titles,groups,the_suite.histoLength)\n",
    "        discard  = multi.display(anim=True)\n",
    "    else:\n",
    "        the_suite.console('********************** No data yet: check access to database!')"
   ]
  },
  {
   "cell_type": "code",
   "execution_count": 4,
   "metadata": {},
   "outputs": [
    {
     "name": "stdout",
     "output_type": "stream",
     "text": [
      " ________________________________________________________________________________________________\n",
      "| Run 822: MnBi6Te1 pellet   100.000G 30.000K     Global fit of 29/11/2021 12:57:04              |\n",
      "| χᵣ² = 1.036(0.986,1.014) ,    on [7.82ns, 9.4µs, 1.95ns/bin]                                   |\n",
      "|----------------------------------------------------------------- on group: 2 - 1   α = 1.135   |\n",
      "| mg: A_T_fast = 0.10478(9) B_T_fast = 10.30(9) φ_T_fast = -58.2(7) σ_T_fast = 0.9(1)\n",
      "| ml: A_T_slow = 0.158(3) B_T_slow = 10.017(4) φ_T_slow = -58.2(7) λ_T_slow = 0.04(1)\n",
      "|----------------------------------------------------------------- on group: 3 - 4   α = 1.129   |\n",
      "| mg: A_T_fast = 0.09629(9) B_T_fast = 10.30(9) φ_T_fast = 33.5(5) σ_T_fast = 0.9(1)\n",
      "| ml: A_T_slow = 0.166(3) B_T_slow = 10.017(4) φ_T_slow = 33.5(5) λ_T_slow = 0.04(1)\n",
      "|________________________________________________________________________________________________|\n",
      "Best fit saved in log/mgml.822.2-1_3-4.gg_1_fit.json .  Log in NEW mgml.gg_1.2-1_3-4.csv\n"
     ]
    }
   ],
   "source": [
    "the_fit = mufit(the_suite,'log/mgml.822.2-1_3-4.gg_1.json')"
   ]
  },
  {
   "cell_type": "code",
   "execution_count": 5,
   "metadata": {},
   "outputs": [
    {
     "name": "stdout",
     "output_type": "stream",
     "text": [
      "Plotting best fit of run 822\n"
     ]
    }
   ],
   "source": [
    "fit_plot= mufitplot('0,2000,10,15000,40',the_suite,'log/mgml.822.2-1_3-4.gg_1_fit.json')#,guess=True) # '0,1000,4,24000,100' # two range plot"
   ]
  },
  {
   "cell_type": "code",
   "execution_count": null,
   "metadata": {},
   "outputs": [],
   "source": []
  }
 ],
 "metadata": {
  "kernelspec": {
   "display_name": "Python 3",
   "language": "python",
   "name": "python3"
  },
  "language_info": {
   "codemirror_mode": {
    "name": "ipython",
    "version": 3
   },
   "file_extension": ".py",
   "mimetype": "text/x-python",
   "name": "python",
   "nbconvert_exporter": "python",
   "pygments_lexer": "ipython3",
   "version": "3.8.10"
  }
 },
 "nbformat": 4,
 "nbformat_minor": 4
}
