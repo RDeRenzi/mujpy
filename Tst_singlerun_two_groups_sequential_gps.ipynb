{
 "cells": [
  {
   "cell_type": "markdown",
   "metadata": {
    "tags": []
   },
   "source": [
    "**Example of double group sequential fit:**\n",
    "\n",
    "MAKE SURE YOU RENEWED ACCESS TO DATABASE!"
   ]
  },
  {
   "cell_type": "code",
   "execution_count": 1,
   "metadata": {},
   "outputs": [],
   "source": [
    "%matplotlib tk\n",
    "from mujpy.musuite import suite\n",
    "from mujpy.muplot import multiplot\n",
    "from mujpy.aux.aux import rebin, get_title\n",
    "import json\n",
    "from mujpy.mufit import mufit\n",
    "from mujpy.mufitplot import mufitplot"
   ]
  },
  {
   "cell_type": "code",
   "execution_count": 2,
   "metadata": {},
   "outputs": [
    {
     "name": "stdout",
     "output_type": "stream",
     "text": [
      "******************* SUITE *********************\n",
      "Run /afs/psi.ch/project/bulkmusr/data/gps/d2021/tdc/deltat_tdc_gps_0822.bin loaded\n",
      "Succesfully completed prompt Minuit fit, check nt0, dt0 \n",
      "****************END OF SUITE*****************\n"
     ]
    }
   ],
   "source": [
    "#  can add 'scan':'T' or 'B' for orderinng csv for increasing T, B, otherwise increasing nrun\n",
    "input_suite = {'console':'print',\n",
    "                   'datafile':'/afs/psi.ch/project/bulkmusr/data/gps/d2021/tdc/deltat_tdc_gps_0822.bin',\n",
    "                   'logpath':'log/',\n",
    "                   'runlist':'822',\n",
    "                   'groups calibration':'2-1_3-4.calib',\n",
    "                   'offset':20\n",
    "                  }  # 'console':logging, for output in Log Console, 'console':print, for output in notebook\n",
    "with open('log/input.suite',\"w\") as f:\n",
    "    json.dump(input_suite,f)\n",
    "\n",
    "grp_calib = [{'forward':'2', 'backward':'1', 'alpha':1.135},{'forward':'3', 'backward':'4', 'alpha':1.129}]\n",
    "with open('log/2-1_3-4.calib',\"w\") as f:\n",
    "    json.dump(grp_calib,f)\n",
    "    \n",
    "the_suite = suite('log/input.suite',mplot=False) # the_suite implements the class suite according to input.suite"
   ]
  },
  {
   "cell_type": "code",
   "execution_count": 3,
   "metadata": {
    "tags": []
   },
   "outputs": [],
   "source": [
    "multi = False # preliminary plot skipped\n",
    "if multi:\n",
    "    asymm,asyme = the_suite.asymmetry_multigroup()\n",
    "    if asymm.any() != None:\n",
    "        t,a = rebin(the_suite.time,asymm,(0,20000),100) \n",
    "        nrun = str(the_suite._the_runs_[0][0].get_runNumber_int())\n",
    "        groups = [grp['forward']+'-'+grp['backward'] for grp in the_suite.groups]\n",
    "        titles = [nrun+': '+get_title(the_suite._the_runs_[0][0]) for group in groups]\n",
    "        multi = multiplot(t,a,titles,groups,the_suite.histoLength)\n",
    "        discard  = multi.display(anim=True)\n",
    "    else:\n",
    "        the_suite.console('********************** No data yet: check access to database!')"
   ]
  },
  {
   "cell_type": "code",
   "execution_count": 4,
   "metadata": {},
   "outputs": [
    {
     "name": "stdout",
     "output_type": "stream",
     "text": [
      " _____________________________________________________________________________________\n",
      "| Run 822: MnBi6Te1 pellet   100.000G 30.000K      on group: 2 - 1   α = 1.135    |\n",
      "| χᵣ² = 1.041(0.980,1.020), fit on [7.82ns, 9.4µs, 1.95ns/bin], at 29/11/2021 12:55:22|\n",
      "|-------------------------------------------------------------------------------------|\n",
      "| mg: A_T_fast = 0.06(1) B_T_fast = 9.9(5) φ_T_fast = -55(2) σ_T_fast = 1.5(4)\n",
      "| ml: A_T_slow = 0.18(1) B_T_slow = 10.01(1) φ_T_slow = -55(2) λ_T_slow = 0.05(2)\n",
      "|_____________________________________________________________________________________|\n",
      " _____________________________________________________________________________________\n",
      "| Run 822: MnBi6Te1 pellet   100.000G 30.000K      on group: 3 - 4   α = 1.129    |\n",
      "| χᵣ² = 1.037(0.980,1.020), fit on [7.82ns, 9.4µs, 1.95ns/bin], at 29/11/2021 12:55:22|\n",
      "|-------------------------------------------------------------------------------------|\n",
      "| mg: A_T_fast = 0.058(5) B_T_fast = 10.3(2) φ_T_fast = 34.2(7) σ_T_fast = -1.6(2)\n",
      "| ml: A_T_slow = 0.195(6) B_T_slow = 10.023(5) φ_T_slow = 34.2(7) λ_T_slow = 0.073(8)\n",
      "|_____________________________________________________________________________________|\n",
      "Best fit saved in log/mgml.822.2-1_3-4.1_fit.json  .  Log added to mgml.1.2-1.csv .  Log added to mgml.1.3-4.csv\n"
     ]
    }
   ],
   "source": [
    "the_fit = mufit(the_suite,'log/mgml.822.2-1_3-4.1.json')"
   ]
  },
  {
   "cell_type": "code",
   "execution_count": 5,
   "metadata": {},
   "outputs": [
    {
     "name": "stdout",
     "output_type": "stream",
     "text": [
      "Plotting best fit of run 822\n",
      "Multigroup animation: toggle pause/resume by clicking on the plot\n",
      "plot_run mufitplot debug: single not multigroup False, multigroup in comp False\n"
     ]
    }
   ],
   "source": [
    "fit_plot= mufitplot('0,2000,10,20000,40',the_suite,'log/mgml.822.2-1_3-4.1_fit.json')#,guess=True) # '0,1000,4,24000,100' # two range plot"
   ]
  },
  {
   "cell_type": "code",
   "execution_count": 6,
   "metadata": {},
   "outputs": [],
   "source": [
    "import matplotlib.pyplot as P\n",
    "from mujpy.aux.aux import rebin\n",
    "if False:\n",
    "    t,a,e,f = the_fit.show_calib()\n",
    "    fig,ax = P.subplots(figsize=(5,4))\n",
    "    tr, ar, er = rebin(t,a,[0,24000],100,e=e)\n",
    "    ax.errorbar(tr,ar,yerr=er,fmt='o',ms=0.5,mfc='w',alpha=0.5)\n",
    "    ax.plot(t,f, 'r-',lw=1,zorder=2)\n",
    "    P.show()"
   ]
  }
 ],
 "metadata": {
  "kernelspec": {
   "display_name": "Python 3",
   "language": "python",
   "name": "python3"
  },
  "language_info": {
   "codemirror_mode": {
    "name": "ipython",
    "version": 3
   },
   "file_extension": ".py",
   "mimetype": "text/x-python",
   "name": "python",
   "nbconvert_exporter": "python",
   "pygments_lexer": "ipython3",
   "version": "3.8.10"
  }
 },
 "nbformat": 4,
 "nbformat_minor": 4
}
