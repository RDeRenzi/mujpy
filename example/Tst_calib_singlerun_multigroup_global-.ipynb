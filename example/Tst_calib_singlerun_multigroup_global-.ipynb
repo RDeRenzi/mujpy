{
 "cells": [
  {
   "cell_type": "markdown",
   "metadata": {
    "tags": []
   },
   "source": [
    "**Example of multigroup group calibration, global:**\n",
    "\n",
    "MAKE SURE YOU RENEWED ACCESS TO DATABASE!"
   ]
  },
  {
   "cell_type": "code",
   "execution_count": 1,
   "metadata": {},
   "outputs": [
    {
     "name": "stdout",
     "output_type": "stream",
     "text": [
      "/home/roberto.derenzi/git/mujpy\n"
     ]
    }
   ],
   "source": [
    "%matplotlib tk\n",
    "%cd /home/roberto.derenzi/git/mujpy/\n",
    "from mujpy.musuite import suite\n",
    "import json, re\n",
    "from os.path import isfile\n",
    "from mujpy.mufit import mufit\n",
    "from mujpy.mufitplot import mufitplot\n",
    "jsonsuffix = '.json'"
   ]
  },
  {
   "cell_type": "code",
   "execution_count": 2,
   "metadata": {},
   "outputs": [],
   "source": [
    "logpath = '/home/roberto.derenzi/git/mujpy/log/'\n",
    "datafile = '/afs/psi.ch/project/bulkmusr/data/gps/d2021/tdc/deltat_tdc_gps_2241.bin'\n",
    "runlist = '2241' # first run first\n",
    "modelname = 'almgml'\n",
    "version = 'gg_1'\n",
    "grp_calib = [{'forward':'2', 'backward':'1', 'alpha':1.13},{'forward':'3', 'backward':'4', 'alpha':1.13}]\n",
    "groupcalibfile = '2-1_3-4.calib'\n",
    "inputsuitefile = 'calib.suite'\n",
    "dashboard = modelname+'.'+re.search(r'\\d+', runlist).group()+'.'+groupcalibfile[:groupcalibfile.index('.')]+'.'+version+jsonsuffix\n",
    "dashfit = modelname+'.'+re.search(r'\\d+', runlist).group()+'.'+groupcalibfile[:groupcalibfile.index('.')]+'.'+version+'_fit'+jsonsuffix\n",
    "if not isfile(logpath+dashboard): \n",
    "    print('Model definition dashboard file {} does not exist. Make one.'.format(logpath+dashboard))"
   ]
  },
  {
   "cell_type": "code",
   "execution_count": 3,
   "metadata": {},
   "outputs": [
    {
     "name": "stdout",
     "output_type": "stream",
     "text": [
      "******************* SUITE *********************\n",
      "Run /afs/psi.ch/project/bulkmusr/data/gps/d2021/tdc/deltat_tdc_gps_2241.bin loaded\n",
      " MnBi2Te4 pellet 30.0K 700mT\n",
      "Succesfully completed prompt Minuit fit, check nt0, dt0 \n",
      "****************END OF SUITE*****************\n"
     ]
    }
   ],
   "source": [
    "#  can add 'scan':'T' or 'B' for orderinng csv for increasing T, B, otherwise increasing nrun\n",
    "input_suite = {'console':'print',\n",
    "                   'datafile':datafile,\n",
    "                   'logpath':logpath,\n",
    "                   'runlist':runlist,\n",
    "                   'groups calibration':groupcalibfile,\n",
    "                   'offset':20\n",
    "                  }  # 'console':logging, for output in Log Console, 'console':print, for output in notebook\n",
    "with open(logpath+inputsuitefile,\"w\") as f:\n",
    "    json.dump(input_suite,f)\n",
    "\n",
    "with open(logpath+groupcalibfile,\"w\") as f:\n",
    "    json.dump(grp_calib,f)\n",
    "    \n",
    "the_suite = suite(logpath+inputsuitefile,mplot=False) # the_suite implements the class suite according to input.suite"
   ]
  },
  {
   "cell_type": "code",
   "execution_count": 4,
   "metadata": {
    "tags": []
   },
   "outputs": [
    {
     "name": "stdout",
     "output_type": "stream",
     "text": [
      "Model defined by dashboard /home/roberto.derenzi/git/mujpy/log/almgml.2241.2-1_3-4.gg_1.json\n",
      " ________________________________________________________________________________________________\n",
      "| Run 2241: MnBi2Te4 pellet 30.0K 700mT    Global fit of 19/12/2021 20:58:36              |\n",
      "| χᵣ² = 6.156(0.987,1.013) ,    on [3.88ns, 4.7µs, 0.39ns/bin]                                   |\n",
      "|----------------------------------------------------------------- on group: 2 - 1   α = 0.898   |\n",
      "| al: α_ = 0.898(1)\n",
      "| mg: A_T_fast = 0.00201(4) B_T_fast = 699.9(1) φ_T_fast = -65(2) σ_T_fast = 4.2(2)\n",
      "| ml: A_T_slow = 0.001(1) B_T_slow = 689.5(3) φ_T_slow = -65(2) λ_T_slow = 5.1(3)\n",
      "|----------------------------------------------------------------- on group: 3 - 4   α = 1.043   |\n",
      "| al: α_ = 1.0430(6)\n",
      "| mg: A_T_fast = 0.15695(9) B_T_fast = 699.9(1) φ_T_fast = 168.9(8) σ_T_fast = 4.2(2)\n",
      "| ml: A_T_slow = 0.090(3) B_T_slow = 689.5(3) φ_T_slow = 168.9(8) λ_T_slow = 5.1(3)\n",
      "|________________________________________________________________________________________________|\n",
      "Best fit saved in /home/roberto.derenzi/git/mujpy/log/almgml.2241.2-1_3-4.gg_1_fit.json .  Log added to almgml.gg_1.2-1_3-4.csv\n"
     ]
    }
   ],
   "source": [
    "print('Model defined by dashboard {}'.format(logpath+dashboard))\n",
    "the_fit = mufit(the_suite,logpath+dashboard)"
   ]
  },
  {
   "cell_type": "code",
   "execution_count": 7,
   "metadata": {},
   "outputs": [
    {
     "name": "stdout",
     "output_type": "stream",
     "text": [
      "Plotting best fit of run 2241\n",
      "Multigroup animation: toggle pause/resume by clicking on the plot\n"
     ]
    }
   ],
   "source": [
    "fit_plot= mufitplot('0,5000,5',the_suite,logpath+dashfit)#,rotating_frame_frequencyMHz=87)#,guess=True) # '0,1000,4,24000,100' # two range plot"
   ]
  },
  {
   "cell_type": "code",
   "execution_count": null,
   "metadata": {},
   "outputs": [],
   "source": []
  }
 ],
 "metadata": {
  "kernelspec": {
   "display_name": "Python 3",
   "language": "python",
   "name": "python3"
  },
  "language_info": {
   "codemirror_mode": {
    "name": "ipython",
    "version": 3
   },
   "file_extension": ".py",
   "mimetype": "text/x-python",
   "name": "python",
   "nbconvert_exporter": "python",
   "pygments_lexer": "ipython3",
   "version": "3.8.10"
  }
 },
 "nbformat": 4,
 "nbformat_minor": 4
}
