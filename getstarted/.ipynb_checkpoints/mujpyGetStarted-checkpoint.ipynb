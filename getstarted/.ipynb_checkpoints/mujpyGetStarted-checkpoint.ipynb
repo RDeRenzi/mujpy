{
 "cells": [
  {
   "cell_type": "markdown",
   "metadata": {},
   "source": [
    "# These are personal notes. \n",
    "It should evolve into a Getting Started User guide. Getting started means\n",
    "\n",
    "* I choose a [jupyter notebook template](#Jupyter-notebook-templates). There are several types of asymmetry fits, α calibration vs. fixed α,  single run vs. suites of runs, single group vs multi group and different degrees of global fits. For a starter choose a [single run, single group fit](../example/Tst_singlerun_singlegroup.ipynb) and immediately click on the left tab File/Export-notebook-as in your [mujpy folder](#mujpy-folder).- or, if this fails, copy the raw code from [github/example](https://github.com/RDeRenzi/mujpy/tree/master/example/Tst_singlerun_singlegroup.ipynb), open an editor, paste it, save into the same mujpy folder. Alternatively, do the same with a [single run, single group α calibration](../example/Tst_singlerun_singlegroup.ipynb) - or its [github/example/](https://github.com/RDeRenzi/mujpy/tree/master/example/Tst_calib_singlerun_singlegroup.ipynb) equivalent. \n",
    "  \n",
    "* I have access to mujpy in one of the following ways\n",
    "  ### python server\n",
    "    - ether I [install mujpy on my machine](#Install-mujpy-on-my-machine)\n",
    "    - or I gain access to a [Virtual machine](#Virtual-machine)\n",
    "    \n",
    "  both machines are referred to as 'this machine' in the following.\n",
    "  ### data folder\n",
    "* I have access to my data; for the sake of the argument, PSI bulk musr data with afs access on this machine.  See other options in [how to access to my data](#How-to-access-my-data).\n",
    "  In any case a data folder must be identified for each [Model dashboard](#Model-dashboard).\n",
    "* I have access to a log folder on this machine; my log directory strategy is the following (not mandatory)\n",
    "   ### mujpy folder\n",
    "   - e.g. `/afs/psi.ch/user/d/derenzi/mujpy/` with afs access, or `~/mujpy/` on this machine, and\n",
    "       - project subfolders (each corresponds to a set of experiments)  with\n",
    "           - an instrument+sample subfolder: here all the ipynb files for the different setup specific fitting models.\n",
    "               - a log subfolder where all the fit model [mujpy log files](#Mujpy-log-files) are stored.\n",
    "               - an optional plot subolder (you may end up with a lot of logs that you do not access often)\n",
    "                 Possibly \n",
    "                 - optional instrument+sample+setup subfolders: you may want to separate the runs in LF from those in TF geometry. Here all the ipynb files for the different setup specific fitting models\n",
    "                   - their log and plot subfolder\n",
    "  \n",
    "  In any case a log subfolder must be identified for each [Model dashboard](#Model-dashboard).\n",
    "\n"
   ]
  },
  {
   "cell_type": "markdown",
   "metadata": {},
   "source": [
    "# How to access my data\n",
    "I access PSI data with Andy File System, e.g. at `/afs/psi.ch/project/bulkmusr/data/gps/d2022/tdc/`, either from any PSI linux machine or from my own. I have installed [openafs](https://www.openafs.org/).\n",
    "\n",
    "Alternatively, I download my dataset from [http://musruser.psi.ch/](http://musruser.psi.ch/) onto a data directory on this machine, say `~/psi/data/MnF2/gps-07-2022/`\n",
    "\n",
    "[Back to top](#These-are-personal-notes.)"
   ]
  },
  {
   "cell_type": "markdown",
   "metadata": {},
   "source": [
    "# Mujpy log files\n",
    "There are several log files, distinguished by their name. All start with the model name, the union of unique two-letter [component labels](#component-labels). They are\n",
    "* json [model dashboard](#Model-dashboard), e.g. `blml.1300.2-1.version.json` which contains the dashboard for a blml fit on a suite of runs starting from run 1300, with group forward detector 2 - backward detector 1, where version is a free label to distinguish finer details;\n",
    "* json model+fit dashboard, e.g. `blml.1300.2-1.version_fit.json` includes the best fit results for run 1300\n",
    "* log ASCII file, e.g. `blml.1300.2-1.version.log`, human readable fit result\n",
    "* csv model result file (space separator, first record is header and starts with Run), e.g. `blml.2-1.version.csv`. Header is Run, Temperature[s], [error[s]], nominal field (from the data file header), pairs of (parameter value, error) for all the [Internal parameters](#Internal-parameters), followed by reduced chi2, low and high limits, alpha, offset bin, fit time.\n",
    "\n",
    "Note: csv header is wrong, since space is a separator in this csv `ml: A_para` is not a valid name for A_para in component ml\n",
    "\n",
    "[Back to top](#These-are-personal-notes.)"
   ]
  },
  {
   "cell_type": "markdown",
   "metadata": {},
   "source": [
    "# Install mujpy on my machine\n",
    "For the time being mujpy works on linux. It should also work on windows with [Anaconda python](https://docs.anaconda.com/anaconda/install/windows/)\n",
    "* Clone [mujpy from github](https://github.com/RDeRenzi/mujpy)\n",
    "* go to the local [mujpy folder](#mujpy-folder) and copy the desired template jupyter notebook from [`~/git/mujpy/example`](../example/).\n",
    "If python works on this machine, then mujpy should work. [Make sure you have all required packets](https://github.com/RDeRenzi/mujpy/blob/master/requirements.txt)\n",
    "\n",
    "[Back to top](#These-are-personal-notes.)"
   ]
  },
  {
   "cell_type": "markdown",
   "metadata": {},
   "source": [
    "# Virtual machine\n",
    "To be implemented\n",
    "\n",
    "[Back to top](#These-are-personal-notes.)"
   ]
  },
  {
   "cell_type": "markdown",
   "metadata": {},
   "source": [
    "# Model dashboard\n",
    "The dashboard is the definition of the model, contained in a json file. At present it is edited manually, (pretty hard, start from a template). A graphic editor is (soon) to come.\n",
    "\n",
    "[Back to top](#These-are-personal-notes.)"
   ]
  },
  {
   "cell_type": "markdown",
   "metadata": {},
   "source": [
    "# Jupyter notebook templates\n",
    "You find some in the [Github example directory](https://github.com/RDeRenzi/mujpy/tree/master/example) \n",
    "\n",
    "[Back to top](#These-are-personal-notes.)"
   ]
  },
  {
   "cell_type": "code",
   "execution_count": null,
   "metadata": {},
   "outputs": [],
   "source": []
  }
 ],
 "metadata": {
  "kernelspec": {
   "display_name": "Python 3",
   "language": "python",
   "name": "python3"
  },
  "language_info": {
   "codemirror_mode": {
    "name": "ipython",
    "version": 3
   },
   "file_extension": ".py",
   "mimetype": "text/x-python",
   "name": "python",
   "nbconvert_exporter": "python",
   "pygments_lexer": "ipython3",
   "version": "3.8.10"
  }
 },
 "nbformat": 4,
 "nbformat_minor": 4
}
